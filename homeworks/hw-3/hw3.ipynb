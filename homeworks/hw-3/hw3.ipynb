{
 "cells": [
  {
   "cell_type": "code",
   "id": "initial_id",
   "metadata": {
    "collapsed": true,
    "ExecuteTime": {
     "end_time": "2025-08-24T08:55:13.873801Z",
     "start_time": "2025-08-24T08:55:13.869782Z"
    }
   },
   "source": "%cd spark/hw-3",
   "outputs": [
    {
     "name": "stdout",
     "output_type": "stream",
     "text": [
      "/home/vdubyna/Workspace/Jupyter/spark/hw-3\n"
     ]
    }
   ],
   "execution_count": 1
  },
  {
   "metadata": {
    "ExecuteTime": {
     "end_time": "2025-08-24T08:56:09.620393Z",
     "start_time": "2025-08-24T08:56:07.900144Z"
    }
   },
   "cell_type": "code",
   "source": [
    "from pyspark.sql import SparkSession\n",
    "from pyspark.sql.functions import col, sum as spark_sum, round as spark_round\n",
    "\n",
    "# === 1. Створення Spark-сесії ===\n",
    "spark = (\n",
    "    SparkSession.builder\n",
    "    .appName(\"ProductCategoryAnalysis\")\n",
    "    .master(\"spark://10.0.1.28:7077\")  # використовую локальний інстанс для виконання\n",
    "    .getOrCreate()\n",
    ")"
   ],
   "id": "88da3ff3c1ff01af",
   "outputs": [
    {
     "name": "stderr",
     "output_type": "stream",
     "text": [
      "25/08/24 08:56:08 WARN Utils: Your hostname, vdubyna-X670E-Steel-Legend resolves to a loopback address: 127.0.1.1; using 10.0.1.28 instead (on interface wlp112s0)\n",
      "25/08/24 08:56:08 WARN Utils: Set SPARK_LOCAL_IP if you need to bind to another address\n",
      "Setting default log level to \"WARN\".\n",
      "To adjust logging level use sc.setLogLevel(newLevel). For SparkR, use setLogLevel(newLevel).\n",
      "25/08/24 08:56:08 WARN NativeCodeLoader: Unable to load native-hadoop library for your platform... using builtin-java classes where applicable\n"
     ]
    }
   ],
   "execution_count": 2
  },
  {
   "metadata": {
    "ExecuteTime": {
     "end_time": "2025-08-24T09:07:53.936904Z",
     "start_time": "2025-08-24T09:07:53.610865Z"
    }
   },
   "cell_type": "code",
   "source": [
    "\n",
    "# === 2. Завантаження CSV-файлів ===\n",
    "users_df = spark.read.csv(\"data/users.csv\", header=True, inferSchema=True)\n",
    "purchases_df = spark.read.csv(\"data/purchases.csv\", header=True, inferSchema=True)\n",
    "products_df = spark.read.csv(\"data/products.csv\", header=True, inferSchema=True)\n",
    "\n",
    "# === 2.1. Очищення даних (видалення рядків з пропущеними значеннями) ===\n",
    "users_df = users_df.dropna()\n",
    "purchases_df = purchases_df.dropna()\n",
    "products_df = products_df.dropna()\n",
    "full_df = purchases_df \\\n",
    "    .join(users_df, on=\"user_id\", how=\"inner\") \\\n",
    "    .join(products_df, on=\"product_id\", how=\"inner\")\n",
    "# === 2.2 Додаємо загальну ціну для спрощення подальших розрахунків ===\n",
    "full_df = full_df.withColumn(\"total_price\", col(\"quantity\") * col(\"price\"))\n",
    "full_df.show()"
   ],
   "id": "fcce6976e9207c56",
   "outputs": [
    {
     "name": "stdout",
     "output_type": "stream",
     "text": [
      "+----------+-------+-----------+----------+--------+--------+---+-------------------+------------+-----------+-----+------------------+\n",
      "|product_id|user_id|purchase_id|      date|quantity|    name|age|              email|product_name|   category|price|       total_price|\n",
      "+----------+-------+-----------+----------+--------+--------+---+-------------------+------------+-----------+-----+------------------+\n",
      "|         9|     52|          1|2022-01-01|       1| User_52| 39| user52@example.com|   Product_9|     Beauty|  6.0|               6.0|\n",
      "|        37|     93|          2|2022-01-02|       8| User_93| 25| user93@example.com|  Product_37|   Clothing|  6.0|              48.0|\n",
      "|        33|     15|          3|2022-01-03|       1| User_15| 30| user15@example.com|  Product_33|       Home|  9.4|               9.4|\n",
      "|        42|     72|          4|2022-01-04|       9| User_72| 39| user72@example.com|  Product_42|     Beauty|  9.1| 81.89999999999999|\n",
      "|        24|     21|          6|2022-01-06|       7| User_21| 37| user21@example.com|  Product_24|Electronics|  2.1|14.700000000000001|\n",
      "|        32|     87|          8|2022-01-08|       3| User_87| 38| user87@example.com|  Product_32|       Home|  8.8|26.400000000000002|\n",
      "|        32|     75|          9|2022-01-09|       2| User_75| 40| user75@example.com|  Product_32|       Home|  8.8|              17.6|\n",
      "|        24|     75|         10|2022-01-10|       9| User_75| 40| user75@example.com|  Product_24|Electronics|  2.1|18.900000000000002|\n",
      "|        41|     88|         11|2022-01-11|       8| User_88| 25| user88@example.com|  Product_41|     Sports|  5.9|              47.2|\n",
      "|        49|    100|         12|2022-01-12|       7|User_100| 26|user100@example.com|  Product_49|     Sports|  9.7| 67.89999999999999|\n",
      "|        49|     24|         13|2022-01-13|       9| User_24| 46| user24@example.com|  Product_49|     Sports|  9.7|              87.3|\n",
      "|        12|      3|         14|2022-01-14|       4|  User_3| 36|  user3@example.com|  Product_12|       Home|  1.3|               5.2|\n",
      "|        39|     22|         15|2022-01-15|       4| User_22| 45| user22@example.com|  Product_39|       Home|  7.3|              29.2|\n",
      "|         2|     53|         16|2022-01-16|       1| User_53| 38| user53@example.com|   Product_2|       Home|  8.3|               8.3|\n",
      "|         3|      2|         17|2022-01-17|       8|  User_2| 48|  user2@example.com|   Product_3|Electronics|  9.2|              73.6|\n",
      "|        49|     88|         18|2022-01-18|       3| User_88| 25| user88@example.com|  Product_49|     Sports|  9.7|29.099999999999998|\n",
      "|        49|     38|         20|2022-01-20|       2| User_38| 41| user38@example.com|  Product_49|     Sports|  9.7|              19.4|\n",
      "|        17|      2|         21|2022-01-21|       2|  User_2| 48|  user2@example.com|  Product_17|Electronics|  8.1|              16.2|\n",
      "|        49|     64|         22|2022-01-22|       7| User_64| 26| user64@example.com|  Product_49|     Sports|  9.7| 67.89999999999999|\n",
      "|         2|     60|         23|2022-01-23|       6| User_60| 37| user60@example.com|   Product_2|       Home|  8.3|49.800000000000004|\n",
      "+----------+-------+-----------+----------+--------+--------+---+-------------------+------------+-----------+-----+------------------+\n",
      "only showing top 20 rows\n",
      "\n"
     ]
    }
   ],
   "execution_count": 11
  },
  {
   "metadata": {
    "ExecuteTime": {
     "end_time": "2025-08-24T09:09:23.111856Z",
     "start_time": "2025-08-24T09:09:22.963962Z"
    }
   },
   "cell_type": "code",
   "source": [
    "# === 3: Загальна сума покупок за категорією ===\n",
    "df_total_by_category = full_df.groupBy(\"category\") \\\n",
    "    .agg(spark_round(spark_sum(\"total_price\"), 2).alias(\"total_spent\"))\n",
    "df_total_by_category.show()"
   ],
   "id": "7a8b20d004effa30",
   "outputs": [
    {
     "name": "stdout",
     "output_type": "stream",
     "text": [
      "+-----------+-----------+\n",
      "|   category|total_spent|\n",
      "+-----------+-----------+\n",
      "|       Home|     1438.9|\n",
      "|     Sports|     1755.5|\n",
      "|Electronics|     1141.9|\n",
      "|   Clothing|      696.1|\n",
      "|     Beauty|      441.7|\n",
      "+-----------+-----------+\n",
      "\n"
     ]
    }
   ],
   "execution_count": 12
  },
  {
   "metadata": {
    "ExecuteTime": {
     "end_time": "2025-08-24T09:10:59.584348Z",
     "start_time": "2025-08-24T09:10:59.432377Z"
    }
   },
   "cell_type": "code",
   "source": [
    "# === 4: Сума покупок для віку 18–25 ===\n",
    "age_filtered_df = full_df.filter((col(\"age\") >= 18) & (col(\"age\") <= 25))\n",
    "df_18_25_by_category = age_filtered_df.groupBy(\"category\") \\\n",
    "    .agg(spark_round(spark_sum(\"total_price\"), 2).alias(\"total_spent_18_25\"))\n",
    "df_18_25_by_category.show()"
   ],
   "id": "d7d032d3c329b939",
   "outputs": [
    {
     "name": "stdout",
     "output_type": "stream",
     "text": [
      "+-----------+-----------------+\n",
      "|   category|total_spent_18_25|\n",
      "+-----------+-----------------+\n",
      "|       Home|            361.1|\n",
      "|     Sports|            310.5|\n",
      "|Electronics|            249.6|\n",
      "|   Clothing|            245.0|\n",
      "|     Beauty|             41.4|\n",
      "+-----------+-----------------+\n",
      "\n"
     ]
    }
   ],
   "execution_count": 13
  },
  {
   "metadata": {
    "ExecuteTime": {
     "end_time": "2025-08-24T09:11:34.535007Z",
     "start_time": "2025-08-24T09:11:34.242442Z"
    }
   },
   "cell_type": "code",
   "source": [
    "# === 5: Частка покупок у % ===\n",
    "total_18_25 = age_filtered_df.agg(spark_sum(\"total_price\").alias(\"total\")).collect()[0][\"total\"]\n",
    "df_percentages = df_18_25_by_category.withColumn(\n",
    "    \"percentage\",\n",
    "    spark_round((col(\"total_spent_18_25\") / total_18_25) * 100, 2)\n",
    ")\n",
    "df_percentages.show()"
   ],
   "id": "f9e65101c4e214c7",
   "outputs": [
    {
     "name": "stdout",
     "output_type": "stream",
     "text": [
      "+-----------+-----------------+----------+\n",
      "|   category|total_spent_18_25|percentage|\n",
      "+-----------+-----------------+----------+\n",
      "|       Home|            361.1|      29.9|\n",
      "|     Sports|            310.5|     25.71|\n",
      "|Electronics|            249.6|     20.67|\n",
      "|   Clothing|            245.0|     20.29|\n",
      "|     Beauty|             41.4|      3.43|\n",
      "+-----------+-----------------+----------+\n",
      "\n"
     ]
    }
   ],
   "execution_count": 14
  },
  {
   "metadata": {
    "ExecuteTime": {
     "end_time": "2025-08-24T09:11:55.989177Z",
     "start_time": "2025-08-24T09:11:55.831524Z"
    }
   },
   "cell_type": "code",
   "source": [
    "# === 6: Топ-3 категорії за % витрат ===\n",
    "df_percentages.orderBy(col(\"percentage\").desc()).limit(3).show()"
   ],
   "id": "4dc39df0c46ecfa3",
   "outputs": [
    {
     "name": "stdout",
     "output_type": "stream",
     "text": [
      "+-----------+-----------------+----------+\n",
      "|   category|total_spent_18_25|percentage|\n",
      "+-----------+-----------------+----------+\n",
      "|       Home|            361.1|      29.9|\n",
      "|     Sports|            310.5|     25.71|\n",
      "|Electronics|            249.6|     20.67|\n",
      "+-----------+-----------------+----------+\n",
      "\n"
     ]
    }
   ],
   "execution_count": 15
  },
  {
   "metadata": {
    "ExecuteTime": {
     "end_time": "2025-08-24T09:13:42.837258Z",
     "start_time": "2025-08-24T09:13:42.819443Z"
    }
   },
   "cell_type": "code",
   "source": [
    "# === Теж саме з використанням SQL\n",
    "\n",
    "# Створення тимчасових представлень\n",
    "users_df.createOrReplaceTempView(\"users\")\n",
    "purchases_df.createOrReplaceTempView(\"purchases\")\n",
    "products_df.createOrReplaceTempView(\"products\")"
   ],
   "id": "64815c4a7197a6d6",
   "outputs": [],
   "execution_count": 19
  },
  {
   "metadata": {
    "ExecuteTime": {
     "end_time": "2025-08-24T09:13:43.385171Z",
     "start_time": "2025-08-24T09:13:43.369953Z"
    }
   },
   "cell_type": "code",
   "source": [
    "# Обʼєднаний вигляд із total_price\n",
    "spark.sql(\"\"\"\n",
    "    CREATE OR REPLACE TEMP VIEW full_data AS\n",
    "    SELECT\n",
    "        u.user_id,\n",
    "        u.age,\n",
    "        p.product_id,\n",
    "        pr.category,\n",
    "        pr.price,\n",
    "        p.quantity,\n",
    "        (p.quantity * pr.price) AS total_price\n",
    "    FROM purchases p\n",
    "    JOIN users u ON p.user_id = u.user_id\n",
    "    JOIN products pr ON p.product_id = pr.product_id\n",
    "\"\"\")"
   ],
   "id": "bcd333cdbaf15044",
   "outputs": [
    {
     "data": {
      "text/plain": [
       "DataFrame[]"
      ]
     },
     "execution_count": 20,
     "metadata": {},
     "output_type": "execute_result"
    }
   ],
   "execution_count": 20
  },
  {
   "metadata": {
    "ExecuteTime": {
     "end_time": "2025-08-24T09:13:56.817724Z",
     "start_time": "2025-08-24T09:13:56.648069Z"
    }
   },
   "cell_type": "code",
   "source": [
    "\n",
    "# Крок 3: Загальна сума покупок за категоріями\n",
    "spark.sql(\"\"\"\n",
    "    SELECT category, ROUND(SUM(total_price), 2) AS total_spent\n",
    "    FROM full_data\n",
    "    GROUP BY category\n",
    "    ORDER BY total_spent DESC\n",
    "\"\"\").show()"
   ],
   "id": "4f28f4d5e8a5dd31",
   "outputs": [
    {
     "name": "stdout",
     "output_type": "stream",
     "text": [
      "+-----------+-----------+\n",
      "|   category|total_spent|\n",
      "+-----------+-----------+\n",
      "|     Sports|     1755.5|\n",
      "|       Home|     1438.9|\n",
      "|Electronics|     1141.9|\n",
      "|   Clothing|      696.1|\n",
      "|     Beauty|      441.7|\n",
      "+-----------+-----------+\n",
      "\n"
     ]
    }
   ],
   "execution_count": 21
  },
  {
   "metadata": {
    "ExecuteTime": {
     "end_time": "2025-08-24T09:14:15.365463Z",
     "start_time": "2025-08-24T09:14:15.229946Z"
    }
   },
   "cell_type": "code",
   "source": [
    "\n",
    "# Крок 4: Сума покупок за категоріями для 18–25\n",
    "spark.sql(\"\"\"\n",
    "    CREATE OR REPLACE TEMP VIEW age_18_25 AS\n",
    "    SELECT *\n",
    "    FROM full_data\n",
    "    WHERE age BETWEEN 18 AND 25\n",
    "\"\"\")\n",
    "\n",
    "spark.sql(\"\"\"\n",
    "    SELECT category, ROUND(SUM(total_price), 2) AS total_spent_18_25\n",
    "    FROM age_18_25\n",
    "    GROUP BY category\n",
    "    ORDER BY total_spent_18_25 DESC\n",
    "\"\"\").show()"
   ],
   "id": "9b2107fa542778c3",
   "outputs": [
    {
     "name": "stdout",
     "output_type": "stream",
     "text": [
      "+-----------+-----------------+\n",
      "|   category|total_spent_18_25|\n",
      "+-----------+-----------------+\n",
      "|       Home|            361.1|\n",
      "|     Sports|            310.5|\n",
      "|Electronics|            249.6|\n",
      "|   Clothing|            245.0|\n",
      "|     Beauty|             41.4|\n",
      "+-----------+-----------------+\n",
      "\n"
     ]
    }
   ],
   "execution_count": 23
  },
  {
   "metadata": {
    "ExecuteTime": {
     "end_time": "2025-08-24T09:14:29.274583Z",
     "start_time": "2025-08-24T09:14:28.947296Z"
    }
   },
   "cell_type": "code",
   "source": [
    "# Крок 5: Частка від загальної суми\n",
    "spark.sql(\"\"\"\n",
    "    CREATE OR REPLACE TEMP VIEW category_percentages AS\n",
    "    SELECT\n",
    "        category,\n",
    "        ROUND(SUM(total_price), 2) AS total_spent_18_25,\n",
    "        ROUND(SUM(total_price) / (SELECT SUM(total_price) FROM age_18_25) * 100, 2) AS percentage\n",
    "    FROM age_18_25\n",
    "    GROUP BY category\n",
    "\"\"\")\n",
    "\n",
    "spark.sql(\"SELECT * FROM category_percentages ORDER BY percentage DESC\").show()"
   ],
   "id": "cb054ecb2f5bd41e",
   "outputs": [
    {
     "name": "stdout",
     "output_type": "stream",
     "text": [
      "+-----------+-----------------+----------+\n",
      "|   category|total_spent_18_25|percentage|\n",
      "+-----------+-----------------+----------+\n",
      "|       Home|            361.1|      29.9|\n",
      "|     Sports|            310.5|     25.71|\n",
      "|Electronics|            249.6|     20.67|\n",
      "|   Clothing|            245.0|     20.29|\n",
      "|     Beauty|             41.4|      3.43|\n",
      "+-----------+-----------------+----------+\n",
      "\n"
     ]
    }
   ],
   "execution_count": 24
  },
  {
   "metadata": {
    "ExecuteTime": {
     "end_time": "2025-08-24T09:14:31.654976Z",
     "start_time": "2025-08-24T09:14:31.420174Z"
    }
   },
   "cell_type": "code",
   "source": [
    "# Крок 6: Топ-3 категорії\n",
    "spark.sql(\"\"\"\n",
    "    SELECT *\n",
    "    FROM category_percentages\n",
    "    ORDER BY percentage DESC\n",
    "    LIMIT 3\n",
    "\"\"\").show()"
   ],
   "id": "5685238a14ad1162",
   "outputs": [
    {
     "name": "stdout",
     "output_type": "stream",
     "text": [
      "+-----------+-----------------+----------+\n",
      "|   category|total_spent_18_25|percentage|\n",
      "+-----------+-----------------+----------+\n",
      "|       Home|            361.1|      29.9|\n",
      "|     Sports|            310.5|     25.71|\n",
      "|Electronics|            249.6|     20.67|\n",
      "+-----------+-----------------+----------+\n",
      "\n"
     ]
    }
   ],
   "execution_count": 25
  },
  {
   "metadata": {
    "ExecuteTime": {
     "end_time": "2025-08-24T10:04:40.390913Z",
     "start_time": "2025-08-24T10:04:40.260989Z"
    }
   },
   "cell_type": "code",
   "source": "spark.stop()",
   "id": "8956489128df0bb0",
   "outputs": [],
   "execution_count": 26
  },
  {
   "metadata": {},
   "cell_type": "code",
   "outputs": [],
   "execution_count": null,
   "source": "",
   "id": "6ad477448c5ea8ca"
  }
 ],
 "metadata": {
  "kernelspec": {
   "display_name": "Python 3",
   "language": "python",
   "name": "python3"
  },
  "language_info": {
   "codemirror_mode": {
    "name": "ipython",
    "version": 2
   },
   "file_extension": ".py",
   "mimetype": "text/x-python",
   "name": "python",
   "nbconvert_exporter": "python",
   "pygments_lexer": "ipython2",
   "version": "2.7.6"
  }
 },
 "nbformat": 4,
 "nbformat_minor": 5
}
