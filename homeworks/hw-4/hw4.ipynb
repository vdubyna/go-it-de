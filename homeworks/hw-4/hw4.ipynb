{
 "cells": [
  {
   "cell_type": "code",
   "id": "initial_id",
   "metadata": {
    "collapsed": true,
    "ExecuteTime": {
     "end_time": "2025-08-24T09:42:38.872534Z",
     "start_time": "2025-08-24T09:42:38.870302Z"
    }
   },
   "source": "%cd spark/hw-4",
   "outputs": [
    {
     "name": "stdout",
     "output_type": "stream",
     "text": [
      "/home/vdubyna/Workspace/Jupyter/spark/hw-4\n"
     ]
    }
   ],
   "execution_count": 2
  },
  {
   "metadata": {
    "ExecuteTime": {
     "end_time": "2025-08-24T10:41:31.704997Z",
     "start_time": "2025-08-24T10:41:29.164830Z"
    }
   },
   "cell_type": "code",
   "source": [
    "from pyspark.sql import SparkSession\n",
    "# === Частина 1 ===\n",
    "# Створення Spark-сесії\n",
    "spark = (\n",
    "    SparkSession.builder\n",
    "    .appName(\"ProductCategoryAnalysis\")\n",
    "    .master(\"spark://10.0.1.28:7077\")\n",
    "    .config(\"spark.sql.shuffle.partitions\", \"2\")\n",
    "    .config(\"spark.eventLog.enabled\", \"true\")\n",
    "    .config(\"spark.eventLog.dir\", \"file:///opt/spark-events\")\n",
    "    .getOrCreate()\n",
    ")\n",
    "# Завантажуємо датасет\n",
    "nuek_df = spark.read \\\n",
    "    .option(\"header\", \"true\") \\\n",
    "    .option(\"inferSchema\", \"true\") \\\n",
    "    .csv('./data/nuek-vuh3.csv')\n",
    "nuek_repart = nuek_df.repartition(2)\n",
    "nuek_processed = nuek_repart \\\n",
    "    .where(\"final_priority < 3\") \\\n",
    "    .select(\"unit_id\", \"final_priority\") \\\n",
    "    .groupBy(\"unit_id\") \\\n",
    "    .count()\n",
    "# Ось ТУТ додано рядок\n",
    "nuek_processed = nuek_processed.where(\"count>2\")\n",
    "nuek_processed.collect()\n",
    "# Закриваємо сесію Spark\n",
    "spark.stop()"
   ],
   "id": "88da3ff3c1ff01af",
   "outputs": [
    {
     "name": "stderr",
     "output_type": "stream",
     "text": [
      "                                                                                \r"
     ]
    }
   ],
   "execution_count": 23
  },
  {
   "metadata": {
    "ExecuteTime": {
     "end_time": "2025-08-24T10:41:35.936133Z",
     "start_time": "2025-08-24T10:41:33.395610Z"
    }
   },
   "cell_type": "code",
   "source": [
    "from pyspark.sql import SparkSession\n",
    "# === Частина 2 ===\n",
    "# Створення Spark-сесії\n",
    "spark = (\n",
    "    SparkSession.builder\n",
    "    .appName(\"ProductCategoryAnalysis\")\n",
    "    .master(\"spark://10.0.1.28:7077\")\n",
    "    .config(\"spark.sql.shuffle.partitions\", \"2\")\n",
    "    .config(\"spark.eventLog.enabled\", \"true\")\n",
    "    .config(\"spark.eventLog.dir\", \"file:///opt/spark-events\")\n",
    "    .getOrCreate()\n",
    ")\n",
    "# Завантажуємо датасет\n",
    "nuek_df = spark.read \\\n",
    "    .option(\"header\", \"true\") \\\n",
    "    .option(\"inferSchema\", \"true\") \\\n",
    "    .csv('./data/nuek-vuh3.csv')\n",
    "nuek_repart = nuek_df.repartition(2)\n",
    "nuek_processed = nuek_repart \\\n",
    "    .where(\"final_priority < 3\") \\\n",
    "    .select(\"unit_id\", \"final_priority\") \\\n",
    "    .groupBy(\"unit_id\") \\\n",
    "    .count()\n",
    "# Проміжний action: collect\n",
    "nuek_processed.collect()\n",
    "# Ось ТУТ додано рядок\n",
    "nuek_processed = nuek_processed.where(\"count>2\")\n",
    "nuek_processed.collect()\n",
    "# Закриваємо сесію Spark\n",
    "spark.stop()\n"
   ],
   "id": "aa1bb8ec0210f2e",
   "outputs": [
    {
     "name": "stderr",
     "output_type": "stream",
     "text": [
      "                                                                                \r"
     ]
    }
   ],
   "execution_count": 24
  },
  {
   "metadata": {
    "ExecuteTime": {
     "end_time": "2025-08-24T10:41:39.410728Z",
     "start_time": "2025-08-24T10:41:36.873117Z"
    }
   },
   "cell_type": "code",
   "source": [
    "from pyspark.sql import SparkSession\n",
    "# === Частина 3 ===\n",
    "# Створення Spark-сесії\n",
    "spark = (\n",
    "    SparkSession.builder\n",
    "    .appName(\"ProductCategoryAnalysis\")\n",
    "    .master(\"spark://10.0.1.28:7077\")\n",
    "    .config(\"spark.sql.shuffle.partitions\", \"2\")\n",
    "    .config(\"spark.eventLog.enabled\", \"true\")\n",
    "    .config(\"spark.eventLog.dir\", \"file:///opt/spark-events\")\n",
    "    .getOrCreate()\n",
    ")\n",
    "# Завантажуємо датасет\n",
    "nuek_df = spark.read \\\n",
    "    .option(\"header\", \"true\") \\\n",
    "    .option(\"inferSchema\", \"true\") \\\n",
    "    .csv('./data/nuek-vuh3.csv')\n",
    "nuek_repart = nuek_df.repartition(2)\n",
    "nuek_processed_cached = nuek_repart \\\n",
    "    .where(\"final_priority < 3\") \\\n",
    "    .select(\"unit_id\", \"final_priority\") \\\n",
    "    .groupBy(\"unit_id\") \\\n",
    "    .count() \\\n",
    "    .cache()  # Додано функцію cache\n",
    "# Проміжний action: collect\n",
    "nuek_processed_cached.collect()\n",
    "# Ось ТУТ додано рядок\n",
    "nuek_processed = nuek_processed_cached.where(\"count>2\")\n",
    "nuek_processed.collect()\n",
    "# Звільняємо пям'ять від Dataframe\n",
    "nuek_processed_cached.unpersist()\n",
    "# Закриваємо сесію Spark\n",
    "spark.stop()"
   ],
   "id": "b38873dfd0a7c0e",
   "outputs": [
    {
     "name": "stderr",
     "output_type": "stream",
     "text": [
      "                                                                                \r"
     ]
    }
   ],
   "execution_count": 25
  },
  {
   "metadata": {},
   "cell_type": "code",
   "outputs": [],
   "execution_count": null,
   "source": "",
   "id": "650e35b61f4439e"
  }
 ],
 "metadata": {
  "kernelspec": {
   "display_name": "Python 3",
   "language": "python",
   "name": "python3"
  },
  "language_info": {
   "codemirror_mode": {
    "name": "ipython",
    "version": 2
   },
   "file_extension": ".py",
   "mimetype": "text/x-python",
   "name": "python",
   "nbconvert_exporter": "python",
   "pygments_lexer": "ipython2",
   "version": "2.7.6"
  }
 },
 "nbformat": 4,
 "nbformat_minor": 5
}
