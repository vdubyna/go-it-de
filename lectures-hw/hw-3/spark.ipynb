{
 "cells": [
  {
   "cell_type": "code",
   "id": "initial_id",
   "metadata": {
    "collapsed": true,
    "ExecuteTime": {
     "end_time": "2025-08-24T08:45:01.358913Z",
     "start_time": "2025-08-24T08:45:01.353548Z"
    }
   },
   "source": "%cd spark/hw-3",
   "outputs": [
    {
     "name": "stdout",
     "output_type": "stream",
     "text": [
      "/home/vdubyna/Workspace/Jupyter/spark/hw-3\n"
     ]
    }
   ],
   "execution_count": 1
  },
  {
   "metadata": {
    "ExecuteTime": {
     "end_time": "2025-08-24T08:45:15.892404Z",
     "start_time": "2025-08-24T08:45:15.780772Z"
    }
   },
   "cell_type": "code",
   "source": "%ls",
   "id": "ce76a211623d770",
   "outputs": [
    {
     "name": "stdout",
     "output_type": "stream",
     "text": [
      "\u001B[0m\u001B[01;34mdata\u001B[0m/  spark.ipynb\r\n"
     ]
    }
   ],
   "execution_count": 2
  },
  {
   "metadata": {},
   "cell_type": "code",
   "outputs": [],
   "execution_count": null,
   "source": "",
   "id": "f4ee11034298c2b1"
  },
  {
   "metadata": {
    "ExecuteTime": {
     "end_time": "2025-08-11T20:19:35.027515Z",
     "start_time": "2025-08-11T20:19:35.025539Z"
    }
   },
   "cell_type": "code",
   "source": "datafile = '/home/vdubyna/Workspace/Jupyter/spark/hw-3/data/nuek-vuh3.csv'",
   "id": "295e3231ba116ca",
   "outputs": [],
   "execution_count": 6
  },
  {
   "metadata": {
    "ExecuteTime": {
     "end_time": "2025-08-11T20:19:02.447810Z",
     "start_time": "2025-08-11T20:19:00.408637Z"
    }
   },
   "cell_type": "code",
   "source": [
    "import random\n",
    "from pyspark.sql import SparkSession\n",
    "\n",
    "spark = (\n",
    "    SparkSession.builder\n",
    "    .appName(\"MyGoitSparkSandbox\")\n",
    "    .master(\"spark://10.0.1.28:7077\")\n",
    "    .getOrCreate()\n",
    ")\n",
    "nuek_df = spark.read.csv(datafile, header=True)\n",
    "\n",
    "# nuek_alt_read_df = (spark.read.format(\"csv\")\n",
    "#                     .option(\"header\", \"true\")\n",
    "#                     .load(datafile))\n",
    "\n",
    "# Виводимо перші 10 записів\n",
    "# nuek_df.show(10)\n",
    "\n",
    "# Створюємо тимчасове представлення для виконання SQL-запитів\n",
    "nuek_df.createTempView(\"nuek_view\")\n",
    "# Виконуємо SQL-маніпуляції\n",
    "spark.sql(\"SELECT * FROM nuek_view LIMIT 10\").show()\n",
    "\n",
    "# Закриваємо сесію Spark\n",
    "spark.stop()"
   ],
   "id": "88da3ff3c1ff01af",
   "outputs": [
    {
     "name": "stderr",
     "output_type": "stream",
     "text": [
      "                                                                                \r"
     ]
    },
    {
     "name": "stdout",
     "output_type": "stream",
     "text": [
      "+-----------+-------+---------------+----------------+--------------------+--------------------+--------------------+--------------------+--------------------+--------------------+--------------------+--------------+-------------+----------------------+--------------------+--------------------+----+-------------------+---------+------------+----+-----------------+--------+--------------+--------+---------------+----------------+---------+------------------------------+------------------------+-------------------+---------------------------------+-------------+--------------------+--------------------+--------------------+---------------------------+\n",
      "|call_number|unit_id|incident_number|       call_type|           call_date|          watch_date|       received_dttm|          entry_dttm|       dispatch_dttm|       response_dttm|       on_scene_dttm|transport_dttm|hospital_dttm|call_final_disposition|      available_dttm|             address|city|zipcode_of_incident|battalion|station_area| box|original_priority|priority|final_priority|als_unit|call_type_group|number_of_alarms|unit_type|unit_sequence_in_call_dispatch|fire_prevention_district|supervisor_district|neighborhoods_analysis_boundaries|        rowid|       case_location|          data_as_of|      data_loaded_at|:@computed_region_ajp5_b2md|\n",
      "+-----------+-------+---------------+----------------+--------------------+--------------------+--------------------+--------------------+--------------------+--------------------+--------------------+--------------+-------------+----------------------+--------------------+--------------------+----+-------------------+---------+------------+----+-----------------+--------+--------------+--------+---------------+----------------+---------+------------------------------+------------------------+-------------------+---------------------------------+-------------+--------------------+--------------------+--------------------+---------------------------+\n",
      "|  063520271|     71|       06099527|Medical Incident|2006-12-18T00:00:...|2006-12-18T00:00:...|2006-12-18T16:30:...|2006-12-18T16:32:...|2006-12-18T16:33:...|                NULL|                NULL|          NULL|         NULL|                 Other|                NULL|TAYLOR ST/JEFFERS...|  SF|              94133|      B01|          28|0945|                E|       E|             3|   false|           NULL|               1|    MEDIC|                             4|                       1|                  3|                      North Beach| 063520271-71|POINT (-122.4158 ...|2024-02-05T03:27:...|2024-02-05T10:56:...|                         23|\n",
      "|  063530078|    E36|       06099669|          Alarms|2006-12-19T00:00:...|2006-12-19T00:00:...|2006-12-19T08:39:...|2006-12-19T08:40:...|2006-12-19T08:40:...|2006-12-19T08:42:...|2006-12-19T08:44:...|          NULL|         NULL|                 Other|2006-12-19T08:56:...|    LAGUNA ST/IVY ST|  SF|              94102|      B02|          36|3413|                3|       3|             3|    true|           NULL|               1|   ENGINE|                             1|                       2|                  5|                     Hayes Valley|063530078-E36|POINT (-122.42636...|2024-02-05T03:27:...|2024-02-05T10:56:...|                          9|\n",
      "|  063530311|    M13|       06099836|Medical Incident|2006-12-19T00:00:...|2006-12-19T00:00:...|2006-12-19T19:49:...|2006-12-19T19:52:...|2006-12-19T19:52:...|                NULL|                NULL|          NULL|         NULL|                 Other|2006-12-19T19:54:...| AVENUE D/09TH TI ST|  TI|              94130|      B03|          48|2931|                3|       3|             3|    true|           NULL|               1|    MEDIC|                             3|                    None|                  6|                  Treasure Island|063530311-M13|POINT (-122.37266...|2024-02-05T03:27:...|2024-02-05T10:56:...|                         37|\n",
      "|  063540281|    T10|       06100040|          Alarms|2006-12-20T00:00:...|2006-12-20T00:00:...|2006-12-20T16:06:...|2006-12-20T16:07:...|2006-12-20T16:07:...|                NULL|                NULL|          NULL|         NULL|                 Other|2006-12-20T16:08:...|   ERKSON CT/POST ST|  SF|              94115|      B04|          10|4131|                3|       3|             3|   false|           NULL|               1|    TRUCK|                             3|                       5|                  5|                        Japantown|063540281-T10|POINT (-122.44015...|2024-02-05T03:27:...|2024-02-05T10:56:...|                         15|\n",
      "|  063560404|    E35|       06100734|          Alarms|2006-12-22T00:00:...|2006-12-22T00:00:...|2006-12-22T23:14:...|2006-12-22T23:17:...|2006-12-22T23:18:...|                NULL|                NULL|          NULL|         NULL|                 Other|2006-12-22T23:20:...|STEVENSON ST/05TH ST|  SF|              94103|      B03|          01|2212|                3|       3|             3|   false|           NULL|               1|   ENGINE|                             3|                       3|                  6|                  South of Market|063560404-E35|POINT (-122.40748...|2024-02-05T03:27:...|2024-02-05T10:56:...|                         34|\n",
      "|  063570023|    M14|       06100764|Medical Incident|2006-12-23T00:00:...|2006-12-22T00:00:...|2006-12-23T01:13:...|2006-12-23T01:16:...|2006-12-23T01:17:...|2006-12-23T01:19:...|                NULL|          NULL|         NULL|                 Other|                NULL| 48TH AVE/KIRKHAM ST|  SF|              94122|      B08|          23|7723|                1|       1|             2|    true|           NULL|               1|    MEDIC|                             2|                       8|                  4|                  Sunset/Parkside|063570023-M14|POINT (-122.50793...|2024-02-05T03:27:...|2024-02-05T10:56:...|                         35|\n",
      "|  063600060|    M13|       06101579|Medical Incident|2006-12-26T00:00:...|2006-12-25T00:00:...|2006-12-26T06:22:...|2006-12-26T06:24:...|2006-12-26T06:25:...|                NULL|                NULL|          NULL|         NULL|                 Other|2006-12-26T06:30:...|CALIFORNIA ST/SCO...|  SF|              94115|      B04|          38|4125|                3|       3|             3|    true|           NULL|               1|    MEDIC|                             3|                       4|                  2|                  Pacific Heights|063600060-M13|POINT (-122.43877...|2024-02-05T03:27:...|2024-02-05T10:56:...|                         30|\n",
      "|  063600290|    T12|       06101737|Medical Incident|2006-12-26T00:00:...|2006-12-26T00:00:...|2006-12-26T17:58:...|2006-12-26T18:00:...|2006-12-26T18:00:...|                NULL|                NULL|          NULL|         NULL|                 Other|                NULL|UPPER TER/MONUMEN...|  SF|              94117|      B05|          12|5165|                3|       3|             3|   false|           NULL|               1|    TRUCK|                             2|                       5|                  8|                   Haight Ashbury|063600290-T12|POINT (-122.44629...|2024-02-05T03:27:...|2024-02-05T10:56:...|                          3|\n",
      "|  063610070|    T16|       06101850|           Other|2006-12-27T00:00:...|2006-12-26T00:00:...|2006-12-27T05:38:...|2006-12-27T05:40:...|2006-12-27T05:40:...|2006-12-27T05:42:...|2006-12-27T05:45:...|          NULL|         NULL|                 Other|2006-12-27T06:08:...|LAGUNA ST/LOMBARD ST|  SF|              94123|      B04|          16|3352|                3|       3|             3|   false|           NULL|               1|    TRUCK|                             1|                       4|                  2|                           Marina|063610070-T16|POINT (-122.43111...|2024-02-05T03:27:...|2024-02-05T10:56:...|                         13|\n",
      "|  063640354|     87|       06102991|Medical Incident|2006-12-30T00:00:...|2006-12-30T00:00:...|2006-12-30T22:27:...|2006-12-30T22:30:...|2006-12-30T22:30:...|                NULL|                NULL|          NULL|         NULL|                 Other|2006-12-30T22:51:...|    06TH ST/MINNA ST|  SF|              94103|      B03|          01|2251|                3|       3|             3|    true|           NULL|               1|    MEDIC|                             3|                       3|                  6|                  South of Market| 063640354-87|POINT (-122.40816...|2024-02-05T03:27:...|2024-02-05T10:56:...|                         34|\n",
      "+-----------+-------+---------------+----------------+--------------------+--------------------+--------------------+--------------------+--------------------+--------------------+--------------------+--------------+-------------+----------------------+--------------------+--------------------+----+-------------------+---------+------------+----+-----------------+--------+--------------+--------+---------------+----------------+---------+------------------------------+------------------------+-------------------+---------------------------------+-------------+--------------------+--------------------+--------------------+---------------------------+\n",
      "\n"
     ]
    }
   ],
   "execution_count": 5
  },
  {
   "metadata": {
    "ExecuteTime": {
     "end_time": "2025-08-11T20:21:33.709826Z",
     "start_time": "2025-08-11T20:21:33.707807Z"
    }
   },
   "cell_type": "code",
   "source": [
    "from pyspark.sql import SparkSession\n",
    "from pyspark.sql.functions import col, count, min, max, avg, unix_timestamp, count_if, round, when\n",
    "from pyspark.sql.types import TimestampType, IntegerType"
   ],
   "id": "85b484013e84553",
   "outputs": [],
   "execution_count": 7
  },
  {
   "metadata": {
    "ExecuteTime": {
     "end_time": "2025-08-11T20:29:06.146902Z",
     "start_time": "2025-08-11T20:29:03.612107Z"
    }
   },
   "cell_type": "code",
   "source": [
    "spark = (SparkSession.builder.appName(\"MyGoitSparkSandbox\").master(\"spark://10.0.1.28:7077\").getOrCreate())\n",
    "\n",
    "# Завантажуємо датасет\n",
    "nuek_df = spark.read.csv(datafile, header=True)\n",
    "\n",
    "# Створюємо тимчасове представлення для виконання SQL-запитів\n",
    "nuek_df.createTempView(\"nuek_view\")\n",
    "\n",
    "# Скільки унікальних call_type є в датасеті?\n",
    "print(nuek_df.select('call_type')\n",
    "      .where(col(\"call_type\").isNotNull())\n",
    "      .distinct()\n",
    "      .count())\n",
    "\n",
    "nuek_df.select('call_type') \\\n",
    "    .where(col(\"call_type\").isNotNull()) \\\n",
    "    .distinct() \\\n",
    "    .explain()\n",
    "spark.sql(\"\"\"\n",
    "    SELECT COUNT(DISTINCT call_type) as count\n",
    "    FROM nuek_view\n",
    "    WHERE call_type IS NOT NULL\n",
    "\"\"\").explain()\n",
    "\n",
    "# Скільки унікальних call_type є в датасеті? (з використанням SQL)\n",
    "df = spark.sql(\"\"\"SELECT COUNT(DISTINCT call_type) as count\n",
    "                    FROM nuek_view\n",
    "                    WHERE call_type IS NOT NULL\"\"\")\n",
    "# Виводимо датафрейм на дисплей\n",
    "df.show()\n",
    "\n",
    "# Витягуємо дані колонки з датафрейму\n",
    "print(df.collect(), type(df.collect()))\n",
    "# Дотягуємось до самого значення за номером рядка та іменем колонки\n",
    "print(df.collect()[0]['count'])\n",
    "# або за номером рядка та номером колонки\n",
    "print(df.collect()[0][0])\n",
    "\n",
    "df = spark.sql(\"\"\"SELECT DISTINCT call_type\n",
    "FROM nuek_view\n",
    "WHERE call_type IS NOT NULL\"\"\")\n",
    "# Виводимо датафрейм на дисплей\n",
    "df.show()\n",
    "\n",
    "spark.stop()"
   ],
   "id": "2ae9dc776cbb436d",
   "outputs": [
    {
     "name": "stderr",
     "output_type": "stream",
     "text": [
      "                                                                                \r"
     ]
    },
    {
     "name": "stdout",
     "output_type": "stream",
     "text": [
      "16\n",
      "== Physical Plan ==\n",
      "AdaptiveSparkPlan isFinalPlan=false\n",
      "+- HashAggregate(keys=[call_type#1800], functions=[])\n",
      "   +- Exchange hashpartitioning(call_type#1800, 200), ENSURE_REQUIREMENTS, [plan_id=1235]\n",
      "      +- HashAggregate(keys=[call_type#1800], functions=[])\n",
      "         +- Filter isnotnull(call_type#1800)\n",
      "            +- FileScan csv [call_type#1800] Batched: false, DataFilters: [isnotnull(call_type#1800)], Format: CSV, Location: InMemoryFileIndex(1 paths)[file:/home/vdubyna/Workspace/Jupyter/spark/hw-3/data/nuek-vuh3.csv], PartitionFilters: [], PushedFilters: [IsNotNull(call_type)], ReadSchema: struct<call_type:string>\n",
      "\n",
      "\n",
      "== Physical Plan ==\n",
      "AdaptiveSparkPlan isFinalPlan=false\n",
      "+- HashAggregate(keys=[], functions=[count(distinct call_type#1800)])\n",
      "   +- Exchange SinglePartition, ENSURE_REQUIREMENTS, [plan_id=1266]\n",
      "      +- HashAggregate(keys=[], functions=[partial_count(distinct call_type#1800)])\n",
      "         +- HashAggregate(keys=[call_type#1800], functions=[])\n",
      "            +- Exchange hashpartitioning(call_type#1800, 200), ENSURE_REQUIREMENTS, [plan_id=1262]\n",
      "               +- HashAggregate(keys=[call_type#1800], functions=[])\n",
      "                  +- Filter isnotnull(call_type#1800)\n",
      "                     +- FileScan csv [call_type#1800] Batched: false, DataFilters: [isnotnull(call_type#1800)], Format: CSV, Location: InMemoryFileIndex(1 paths)[file:/home/vdubyna/Workspace/Jupyter/spark/hw-3/data/nuek-vuh3.csv], PartitionFilters: [], PushedFilters: [IsNotNull(call_type)], ReadSchema: struct<call_type:string>\n",
      "\n",
      "\n",
      "+-----+\n",
      "|count|\n",
      "+-----+\n",
      "|   16|\n",
      "+-----+\n",
      "\n",
      "[Row(count=16)] <class 'list'>\n",
      "16\n",
      "16\n",
      "+--------------------+\n",
      "|           call_type|\n",
      "+--------------------+\n",
      "|Elevator / Escala...|\n",
      "|  Aircraft Emergency|\n",
      "|Structure Fire / ...|\n",
      "|              Alarms|\n",
      "|Odor (Strange / U...|\n",
      "|Citizen Assist / ...|\n",
      "|              HazMat|\n",
      "|        Vehicle Fire|\n",
      "|               Other|\n",
      "|        Outside Fire|\n",
      "|   Traffic Collision|\n",
      "|        Water Rescue|\n",
      "|   Electrical Hazard|\n",
      "|    Medical Incident|\n",
      "|Mutual Aid / Assi...|\n",
      "|          Fuel Spill|\n",
      "+--------------------+\n",
      "\n"
     ]
    }
   ],
   "execution_count": 12
  },
  {
   "metadata": {
    "ExecuteTime": {
     "end_time": "2025-08-11T20:22:19.790837Z",
     "start_time": "2025-08-11T20:22:19.415525Z"
    }
   },
   "cell_type": "code",
   "source": "",
   "id": "e3132b8dcef1b58",
   "outputs": [],
   "execution_count": 9
  },
  {
   "metadata": {},
   "cell_type": "code",
   "outputs": [],
   "execution_count": null,
   "source": "",
   "id": "2cbf730d5ec713e8"
  }
 ],
 "metadata": {
  "kernelspec": {
   "display_name": "Python 3",
   "language": "python",
   "name": "python3"
  },
  "language_info": {
   "codemirror_mode": {
    "name": "ipython",
    "version": 2
   },
   "file_extension": ".py",
   "mimetype": "text/x-python",
   "name": "python",
   "nbconvert_exporter": "python",
   "pygments_lexer": "ipython2",
   "version": "2.7.6"
  }
 },
 "nbformat": 4,
 "nbformat_minor": 5
}
